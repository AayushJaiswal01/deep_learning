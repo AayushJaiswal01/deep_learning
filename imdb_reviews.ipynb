{
  "nbformat": 4,
  "nbformat_minor": 0,
  "metadata": {
    "colab": {
      "provenance": [],
      "authorship_tag": "ABX9TyOOUqGmo8hfK+YHc0Zxmit4",
      "include_colab_link": true
    },
    "kernelspec": {
      "name": "python3",
      "display_name": "Python 3"
    },
    "language_info": {
      "name": "python"
    }
  },
  "cells": [
    {
      "cell_type": "markdown",
      "metadata": {
        "id": "view-in-github",
        "colab_type": "text"
      },
      "source": [
        "<a href=\"https://colab.research.google.com/github/AayushJaiswal01/deep_learning/blob/main/imdb_reviews.ipynb\" target=\"_parent\"><img src=\"https://colab.research.google.com/assets/colab-badge.svg\" alt=\"Open In Colab\"/></a>"
      ]
    },
    {
      "cell_type": "code",
      "execution_count": 21,
      "metadata": {
        "id": "XNhThGLwNdaE"
      },
      "outputs": [],
      "source": [
        "import tensorflow as tf\n",
        "import numpy as np\n",
        "import pandas as pd\n",
        "import matplotlib.pyplot as plt"
      ]
    },
    {
      "cell_type": "code",
      "source": [
        "from keras.datasets import imdb"
      ],
      "metadata": {
        "id": "FY9vcgahNw7c"
      },
      "execution_count": 22,
      "outputs": []
    },
    {
      "cell_type": "code",
      "source": [
        "(train_X,train_y),(test_X,test_y)=imdb.load_data(num_words=10000)"
      ],
      "metadata": {
        "id": "QofVWCozNw-G"
      },
      "execution_count": 23,
      "outputs": []
    },
    {
      "cell_type": "code",
      "source": [
        "print(train_X.shape)\n",
        "print(test_X.shape)\n",
        "print(train_y.shape)\n",
        "print(test_y.shape)"
      ],
      "metadata": {
        "colab": {
          "base_uri": "https://localhost:8080/"
        },
        "id": "DU1rtR89NxAc",
        "outputId": "f58dba5f-5ebe-4c22-d05c-e4da5c2f38ae"
      },
      "execution_count": 24,
      "outputs": [
        {
          "output_type": "stream",
          "name": "stdout",
          "text": [
            "(25000,)\n",
            "(25000,)\n",
            "(25000,)\n",
            "(25000,)\n"
          ]
        }
      ]
    },
    {
      "cell_type": "code",
      "source": [
        "def one_hot_encode(sequences, dimension=10000):\n",
        "    results = np.zeros((len(sequences), dimension))\n",
        "    for i, sequence in enumerate(sequences):\n",
        "        results[i, sequence] = 1.\n",
        "    return results\n"
      ],
      "metadata": {
        "id": "K_Lu_ZdWNxEo"
      },
      "execution_count": 25,
      "outputs": []
    },
    {
      "cell_type": "code",
      "source": [
        "train_X=one_hot_encode(train_X)\n",
        "test_X=one_hot_encode(test_X)\n"
      ],
      "metadata": {
        "id": "DTXWb5jlQY3b"
      },
      "execution_count": 26,
      "outputs": []
    },
    {
      "cell_type": "code",
      "source": [
        "train_X.shape"
      ],
      "metadata": {
        "colab": {
          "base_uri": "https://localhost:8080/"
        },
        "id": "Q6POsyvAQY6X",
        "outputId": "3ef8bea4-0b88-47e9-892a-d160f27c0af0"
      },
      "execution_count": 27,
      "outputs": [
        {
          "output_type": "execute_result",
          "data": {
            "text/plain": [
              "(25000, 10000)"
            ]
          },
          "metadata": {},
          "execution_count": 27
        }
      ]
    },
    {
      "cell_type": "code",
      "source": [
        "train_y = np.asarray(train_y).astype('float32')\n",
        "test_y = np.asarray(test_y).astype('float32')"
      ],
      "metadata": {
        "id": "7ksOBF7VQY9R"
      },
      "execution_count": 28,
      "outputs": []
    },
    {
      "cell_type": "code",
      "source": [
        "val_X=train_X[:10000]\n",
        "val_y=train_y[:10000]\n",
        "train_X1=train_X[10000:]\n",
        "train_y1=train_y[10000:]"
      ],
      "metadata": {
        "id": "yVtMwkmcQZAH"
      },
      "execution_count": 29,
      "outputs": []
    },
    {
      "cell_type": "code",
      "source": [
        "model_1=tf.keras.Sequential([\n",
        "    tf.keras.layers.Dense(16,activation='relu',input_shape=(10000,)),\n",
        "    tf.keras.layers.Dense(16,activation='relu'),\n",
        "    tf.keras.layers.Dense(1,activation='sigmoid'),\n",
        "\n",
        "])"
      ],
      "metadata": {
        "id": "SYweKhKdUKEk"
      },
      "execution_count": 30,
      "outputs": []
    },
    {
      "cell_type": "code",
      "source": [
        "model_1.compile(optimizer='rmsprop',\n",
        "              loss='binary_crossentropy',\n",
        "              metrics=['acc'])"
      ],
      "metadata": {
        "id": "xBWIuf58UKHQ"
      },
      "execution_count": 34,
      "outputs": []
    },
    {
      "cell_type": "code",
      "source": [
        "his=model_1.fit(train_X1,train_y1,epochs=20,batch_size=512,validation_data=(val_X,val_y))"
      ],
      "metadata": {
        "colab": {
          "base_uri": "https://localhost:8080/"
        },
        "id": "kbEqI7AjZiAL",
        "outputId": "a71a3211-5b33-4447-c996-90d93e70a389"
      },
      "execution_count": 35,
      "outputs": [
        {
          "output_type": "stream",
          "name": "stdout",
          "text": [
            "Epoch 1/20\n",
            "30/30 [==============================] - 4s 102ms/step - loss: 0.5288 - acc: 0.7679 - val_loss: 0.4039 - val_acc: 0.8591\n",
            "Epoch 2/20\n",
            "30/30 [==============================] - 1s 33ms/step - loss: 0.3219 - acc: 0.8961 - val_loss: 0.3088 - val_acc: 0.8866\n",
            "Epoch 3/20\n",
            "30/30 [==============================] - 1s 34ms/step - loss: 0.2430 - acc: 0.9154 - val_loss: 0.2852 - val_acc: 0.8891\n",
            "Epoch 4/20\n",
            "30/30 [==============================] - 1s 35ms/step - loss: 0.1946 - acc: 0.9362 - val_loss: 0.2737 - val_acc: 0.8889\n",
            "Epoch 5/20\n",
            "30/30 [==============================] - 1s 34ms/step - loss: 0.1642 - acc: 0.9451 - val_loss: 0.2903 - val_acc: 0.8832\n",
            "Epoch 6/20\n",
            "30/30 [==============================] - 1s 36ms/step - loss: 0.1383 - acc: 0.9547 - val_loss: 0.3266 - val_acc: 0.8707\n",
            "Epoch 7/20\n",
            "30/30 [==============================] - 1s 36ms/step - loss: 0.1194 - acc: 0.9623 - val_loss: 0.2937 - val_acc: 0.8853\n",
            "Epoch 8/20\n",
            "30/30 [==============================] - 1s 34ms/step - loss: 0.1023 - acc: 0.9701 - val_loss: 0.3131 - val_acc: 0.8795\n",
            "Epoch 9/20\n",
            "30/30 [==============================] - 1s 34ms/step - loss: 0.0898 - acc: 0.9736 - val_loss: 0.3307 - val_acc: 0.8811\n",
            "Epoch 10/20\n",
            "30/30 [==============================] - 1s 35ms/step - loss: 0.0775 - acc: 0.9774 - val_loss: 0.3424 - val_acc: 0.8812\n",
            "Epoch 11/20\n",
            "30/30 [==============================] - 1s 45ms/step - loss: 0.0666 - acc: 0.9826 - val_loss: 0.4159 - val_acc: 0.8637\n",
            "Epoch 12/20\n",
            "30/30 [==============================] - 2s 57ms/step - loss: 0.0572 - acc: 0.9863 - val_loss: 0.3821 - val_acc: 0.8757\n",
            "Epoch 13/20\n",
            "30/30 [==============================] - 1s 43ms/step - loss: 0.0484 - acc: 0.9890 - val_loss: 0.4107 - val_acc: 0.8717\n",
            "Epoch 14/20\n",
            "30/30 [==============================] - 1s 34ms/step - loss: 0.0411 - acc: 0.9903 - val_loss: 0.4967 - val_acc: 0.8576\n",
            "Epoch 15/20\n",
            "30/30 [==============================] - 1s 34ms/step - loss: 0.0369 - acc: 0.9913 - val_loss: 0.4483 - val_acc: 0.8732\n",
            "Epoch 16/20\n",
            "30/30 [==============================] - 1s 33ms/step - loss: 0.0326 - acc: 0.9935 - val_loss: 0.4760 - val_acc: 0.8736\n",
            "Epoch 17/20\n",
            "30/30 [==============================] - 1s 33ms/step - loss: 0.0243 - acc: 0.9969 - val_loss: 0.4952 - val_acc: 0.8698\n",
            "Epoch 18/20\n",
            "30/30 [==============================] - 1s 34ms/step - loss: 0.0206 - acc: 0.9977 - val_loss: 0.5210 - val_acc: 0.8720\n",
            "Epoch 19/20\n",
            "30/30 [==============================] - 1s 32ms/step - loss: 0.0182 - acc: 0.9979 - val_loss: 0.5464 - val_acc: 0.8702\n",
            "Epoch 20/20\n",
            "30/30 [==============================] - 1s 31ms/step - loss: 0.0163 - acc: 0.9979 - val_loss: 0.5720 - val_acc: 0.8706\n"
          ]
        }
      ]
    },
    {
      "cell_type": "code",
      "source": [
        "model_1.evaluate(test_X,test_y)"
      ],
      "metadata": {
        "colab": {
          "base_uri": "https://localhost:8080/"
        },
        "id": "fe78q8t5ZiFU",
        "outputId": "0cee4f7b-8141-4d80-f058-b4a0cd09d229"
      },
      "execution_count": 37,
      "outputs": [
        {
          "output_type": "stream",
          "name": "stdout",
          "text": [
            "782/782 [==============================] - 2s 2ms/step - loss: 0.6204 - acc: 0.8590\n"
          ]
        },
        {
          "output_type": "execute_result",
          "data": {
            "text/plain": [
              "[0.6203532814979553, 0.8590400218963623]"
            ]
          },
          "metadata": {},
          "execution_count": 37
        }
      ]
    }
  ]
}